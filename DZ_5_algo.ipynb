{
 "cells": [
  {
   "cell_type": "markdown",
   "metadata": {},
   "source": [
    "## Урок 5. Случайный лес"
   ]
  },
  {
   "cell_type": "markdown",
   "metadata": {},
   "source": [
    "Используя файл Lesson_5_extended.ipynb (он в web5.zip в материалах):\n",
    "\n",
    "Сформировать с помощью sklearn.make_classification датасет из 100 объектов с двумя признаками, обучить случайный лес из 1, 3, 10 и 50 деревьев и визуализировать их разделяющие гиперплоскости на графиках (по подобию визуализации деревьев из предыдущего урока, необходимо только заменить вызов функции predict на tree_vote).\n",
    "Сделать выводы о получаемой сложности гиперплоскости и недообучении или переобучении случайного леса в зависимости от количества деревьев в нем.\n",
    "* Заменить в реализованном алгоритме проверку с помощью отложенной выборки на Out-of-Bag.\n",
    "* (На повторение) Переписать функцию gini из урока про решающие деревья так, чтобы в качестве критерия использовалась энтропия Шэннона. Переименовать функцию в entropy."
   ]
  },
  {
   "cell_type": "code",
   "execution_count": 53,
   "metadata": {},
   "outputs": [],
   "source": [
    "import matplotlib.pyplot as plt\n",
    "import random\n",
    "\n",
    "from matplotlib.colors import ListedColormap\n",
    "from sklearn.datasets import make_classification\n",
    "\n",
    "import numpy as np\n",
    "\n",
    "import warnings\n",
    "warnings.filterwarnings('ignore')"
   ]
  },
  {
   "cell_type": "code",
   "execution_count": 54,
   "metadata": {},
   "outputs": [],
   "source": [
    "# сгенерируем данные\n",
    "classification_data, classification_labels = make_classification(n_samples=100,\n",
    "                                                                 n_features=2, n_informative=2, \n",
    "                                                                 n_classes=2, n_redundant=0, \n",
    "                                                                 n_clusters_per_class=1, random_state=3)"
   ]
  },
  {
   "cell_type": "code",
   "execution_count": 55,
   "metadata": {},
   "outputs": [
    {
     "data": {
      "image/png": "[encoded data removed]",
      "text/plain": [
       "<Figure size 576x576 with 1 Axes>"
      ]
     },
     "metadata": {
      "needs_background": "light"
     },
     "output_type": "display_data"
    }
   ],
   "source": [
    "# визуализируем сгенерированные данные\n",
    "\n",
    "colors = ListedColormap(['red', 'blue'])\n",
    "light_colors = ListedColormap(['lightcoral', 'lightblue'])\n",
    "\n",
    "plt.figure(figsize=(8, 8))\n",
    "plt.scatter(classification_data[:, 0], classification_data[:, 1], \n",
    "              c=classification_labels, cmap=colors);"
   ]
  },
  {
   "cell_type": "code",
   "execution_count": 56,
   "metadata": {},
   "outputs": [],
   "source": [
    "# Разобьем выборку на обучающую и тестовую\n",
    "\n",
    "from sklearn.model_selection import train_test_split\n",
    "\n",
    "train_data, test_data, train_labels, test_labels = train_test_split(classification_data, \n",
    "                                                                    classification_labels, \n",
    "                                                                    test_size=0.3,\n",
    "                                                                    random_state=1)"
   ]
  },
  {
   "cell_type": "markdown",
   "metadata": {},
   "source": [
    "Реализуем генерацию $N$ бутстрап-выборок и подмножества признаков для нахождения разбиения в узле."
   ]
  },
  {
   "cell_type": "code",
   "execution_count": 57,
   "metadata": {},
   "outputs": [],
   "source": [
    "np.random.seed(42)\n",
    "\n",
    "def get_bootstrap(data, labels, N):\n",
    "    n_samples = data.shape[0] # размер совпадает с исходной выборкой\n",
    "    bootstrap = []\n",
    "    for i in range(N):\n",
    "        \n",
    "        sample_index = np.random.randint(0, n_samples, size=n_samples)\n",
    "        b_data = data[sample_index]\n",
    "        b_labels = labels[sample_index]\n",
    "        \n",
    "        bootstrap.append((b_data, b_labels))\n",
    "        \n",
    "    return bootstrap"
   ]
  },
  {
   "cell_type": "code",
   "execution_count": 58,
   "metadata": {},
   "outputs": [
    {
     "data": {
      "text/plain": [
       "[(array([[ 1.23337839, -1.28522633],\n",
       "         [ 1.54666436,  1.36255256],\n",
       "         [-0.11040207,  1.83172173],\n",
       "         [ 0.35349941,  1.7568708 ],\n",
       "         [ 0.02749183,  1.15880374],\n",
       "         [ 1.76831878, -1.15653325],\n",
       "         [ 0.5544552 , -0.30371376],\n",
       "         [ 1.14411728, -1.17364132],\n",
       "         [ 0.99198476,  1.0465677 ],\n",
       "         [ 0.99198476,  1.0465677 ],\n",
       "         [-1.75417666,  0.88729595],\n",
       "         [-1.68428971,  1.29496961],\n",
       "         [ 1.24062451,  1.19003781],\n",
       "         [ 0.9271031 ,  0.66729944],\n",
       "         [ 1.98118534,  0.58871202],\n",
       "         [ 1.47127274,  1.00211611],\n",
       "         [ 2.04337398,  1.39459112],\n",
       "         [-1.75417666,  0.88729595],\n",
       "         [ 0.80113229,  1.51109105],\n",
       "         [-0.28911786,  1.80794921],\n",
       "         [ 2.04337398,  1.39459112],\n",
       "         [ 1.81860494, -1.74949819],\n",
       "         [ 0.77582659, -0.84530322],\n",
       "         [ 1.76831878, -1.15653325],\n",
       "         [ 1.6366335 , -1.52911728],\n",
       "         [-0.13130627,  1.16329929],\n",
       "         [-0.61454121,  0.73624857],\n",
       "         [ 1.98118534,  0.58871202],\n",
       "         [ 1.82008444,  0.69097721],\n",
       "         [-0.63517453,  1.70819656],\n",
       "         [ 1.52070322, -1.45906096],\n",
       "         [ 0.72799523,  0.64892708],\n",
       "         [-0.7044121 , -0.06132962],\n",
       "         [-0.34278859, -0.08219351],\n",
       "         [ 0.77582659, -0.84530322],\n",
       "         [ 0.37101516, -0.2729551 ],\n",
       "         [-0.11040207,  1.83172173],\n",
       "         [ 1.2933655 ,  0.95998478],\n",
       "         [ 1.2933655 ,  0.95998478],\n",
       "         [ 0.10666037, -0.67250808],\n",
       "         [ 1.2933655 ,  0.95998478],\n",
       "         [-0.1183851 , -0.35544532],\n",
       "         [ 0.79641411, -0.87819302],\n",
       "         [ 1.81860494, -1.74949819],\n",
       "         [ 0.9271031 ,  0.66729944],\n",
       "         [-0.1183851 , -0.35544532],\n",
       "         [ 2.000055  , -1.44905962],\n",
       "         [ 1.76831878, -1.15653325],\n",
       "         [ 1.24014399, -1.26401561],\n",
       "         [ 3.45454483,  1.9851971 ],\n",
       "         [ 2.08436759,  1.07500638],\n",
       "         [ 1.06060558,  0.83918244],\n",
       "         [ 1.82008444,  0.69097721],\n",
       "         [ 0.77582659, -0.84530322],\n",
       "         [ 1.21975555,  0.49364617],\n",
       "         [ 1.24177346, -1.24876736],\n",
       "         [ 0.66021391, -0.82571524],\n",
       "         [ 1.47127274,  1.00211611],\n",
       "         [ 2.04337398,  1.39459112],\n",
       "         [ 3.31595588, -2.04602895],\n",
       "         [-0.34278859, -0.08219351],\n",
       "         [ 0.77582659, -0.84530322],\n",
       "         [-1.02014784,  2.16859596],\n",
       "         [ 2.0089959 , -1.26166535],\n",
       "         [ 2.62368333,  0.97996059],\n",
       "         [ 0.10666037, -0.67250808],\n",
       "         [ 1.17333444,  0.8640935 ],\n",
       "         [ 0.49288933,  0.98962118],\n",
       "         [ 2.37549206,  1.46462522],\n",
       "         [ 0.99285264, -1.37726605],\n",
       "         [ 0.99792686, -0.87150485],\n",
       "         [ 1.06060558,  0.83918244],\n",
       "         [ 2.04337398,  1.39459112],\n",
       "         [-0.0400079 , -0.67704002],\n",
       "         [ 2.10823657,  1.17117708],\n",
       "         [ 1.06060558,  0.83918244],\n",
       "         [ 2.10823657,  1.17117708],\n",
       "         [ 1.54666436,  1.36255256],\n",
       "         [ 0.76576454, -0.59984961],\n",
       "         [ 2.08436759,  1.07500638],\n",
       "         [ 0.66021391, -0.82571524],\n",
       "         [ 2.0089959 , -1.26166535],\n",
       "         [ 1.88783328, -1.70376068],\n",
       "         [ 1.84465109, -1.33991676],\n",
       "         [ 1.2933655 ,  0.95998478],\n",
       "         [-1.68428971,  1.29496961],\n",
       "         [ 1.21975555,  0.49364617],\n",
       "         [ 2.60996691,  0.67390406],\n",
       "         [-0.72353615,  0.06815893],\n",
       "         [-0.11040207,  1.83172173],\n",
       "         [ 0.35349941,  1.7568708 ],\n",
       "         [ 0.49288933,  0.98962118],\n",
       "         [ 1.14411728, -1.17364132],\n",
       "         [ 1.2933655 ,  0.95998478],\n",
       "         [ 1.41072427, -1.77605417],\n",
       "         [ 1.75696695,  0.26743655],\n",
       "         [ 0.37101516, -0.2729551 ],\n",
       "         [ 0.17832476, -0.6399302 ],\n",
       "         [ 1.47127274,  1.00211611],\n",
       "         [ 1.24062451,  1.19003781]]),\n",
       "  array([1, 0, 0, 0, 0, 1, 1, 1, 0, 0, 1, 0, 0, 0, 0, 0, 0, 1, 0, 0, 0, 1,\n",
       "         1, 1, 1, 0, 0, 0, 0, 0, 1, 0, 1, 1, 1, 1, 0, 0, 0, 1, 0, 1, 1, 1,\n",
       "         0, 1, 1, 1, 1, 0, 0, 0, 0, 1, 0, 1, 1, 0, 0, 1, 1, 1, 0, 1, 0, 1,\n",
       "         0, 0, 0, 1, 1, 0, 0, 1, 0, 0, 0, 0, 1, 0, 1, 1, 1, 1, 0, 0, 0, 0,\n",
       "         1, 0, 0, 0, 1, 0, 1, 0, 1, 1, 0, 0])),\n",
       " (array([[ 0.99940684,  1.7949695 ],\n",
       "         [ 1.82008444,  0.69097721],\n",
       "         [ 0.77582659, -0.84530322],\n",
       "         [ 0.22494494, -0.72489075],\n",
       "         [ 0.47259793, -0.36650012],\n",
       "         [-0.11040207,  1.83172173],\n",
       "         [-0.47741667,  0.40071521],\n",
       "         [ 0.50745175,  0.66381198],\n",
       "         [ 1.82008444,  0.69097721],\n",
       "         [-1.02014784,  2.16859596],\n",
       "         [ 1.24177346, -1.24876736],\n",
       "         [-1.75417666,  0.88729595],\n",
       "         [ 0.97081968, -0.75068294],\n",
       "         [ 2.62368333,  0.97996059],\n",
       "         [-1.75417666,  0.88729595],\n",
       "         [ 0.76576454, -0.59984961],\n",
       "         [ 1.51252103, -1.60447805],\n",
       "         [ 2.37549206,  1.46462522],\n",
       "         [ 2.62368333,  0.97996059],\n",
       "         [ 1.17333444,  0.8640935 ],\n",
       "         [ 1.17333444,  0.8640935 ],\n",
       "         [ 1.6366335 , -1.52911728],\n",
       "         [ 0.94377489,  0.53167223],\n",
       "         [ 0.22494494, -0.72489075],\n",
       "         [ 0.44394688, -0.38992602],\n",
       "         [ 2.000055  , -1.44905962],\n",
       "         [ 1.24014399, -1.26401561],\n",
       "         [ 0.35349941,  1.7568708 ],\n",
       "         [-0.41001209, -0.4249222 ],\n",
       "         [ 1.88783328, -1.70376068],\n",
       "         [ 1.6366335 , -1.52911728],\n",
       "         [-0.72353615,  0.06815893],\n",
       "         [ 0.62169252, -1.19228151],\n",
       "         [ 1.2933655 ,  0.95998478],\n",
       "         [-1.75417666,  0.88729595],\n",
       "         [ 1.99136229, -1.54712958],\n",
       "         [ 3.06902332, -1.85077111],\n",
       "         [ 2.0089959 , -1.26166535],\n",
       "         [ 2.37576193, -1.37351716],\n",
       "         [ 1.52070322, -1.45906096],\n",
       "         [ 1.17333444,  0.8640935 ],\n",
       "         [ 0.50745175,  0.66381198],\n",
       "         [ 3.06902332, -1.85077111],\n",
       "         [ 0.10666037, -0.67250808],\n",
       "         [ 0.49288933,  0.98962118],\n",
       "         [ 0.9271031 ,  0.66729944],\n",
       "         [ 0.97081968, -0.75068294],\n",
       "         [ 0.94377489,  0.53167223],\n",
       "         [ 0.66021391, -0.82571524],\n",
       "         [ 1.21975555,  0.49364617],\n",
       "         [ 2.07135111,  1.45797007],\n",
       "         [ 1.24177346, -1.24876736],\n",
       "         [ 1.7049971 ,  0.88542637],\n",
       "         [-0.11040207,  1.83172173],\n",
       "         [ 0.66021391, -0.82571524],\n",
       "         [-0.7044121 , -0.06132962],\n",
       "         [ 1.10752442,  0.5284127 ],\n",
       "         [-0.1183851 , -0.35544532],\n",
       "         [ 0.76576454, -0.59984961],\n",
       "         [-0.15399877,  0.42254322],\n",
       "         [ 1.23337839, -1.28522633],\n",
       "         [-0.15399877,  0.42254322],\n",
       "         [ 1.06060558,  0.83918244],\n",
       "         [ 0.19655899, -1.17512466],\n",
       "         [ 0.62169252, -1.19228151],\n",
       "         [-0.11040207,  1.83172173],\n",
       "         [ 3.83403939,  1.61051278],\n",
       "         [ 0.47259793, -0.36650012],\n",
       "         [ 0.99285264, -1.37726605],\n",
       "         [ 0.36526052, -0.34216463],\n",
       "         [-0.31704075, -0.34842358],\n",
       "         [-1.02014784,  2.16859596],\n",
       "         [ 0.72799523,  0.64892708],\n",
       "         [ 2.37576193, -1.37351716],\n",
       "         [ 0.44394688, -0.38992602],\n",
       "         [ 0.68720831,  1.15451708],\n",
       "         [-0.7044121 , -0.06132962],\n",
       "         [-0.47741667,  0.40071521],\n",
       "         [ 1.2933655 ,  0.95998478],\n",
       "         [ 1.82285256, -1.41324137],\n",
       "         [-0.0400079 , -0.67704002],\n",
       "         [ 0.44394688, -0.38992602],\n",
       "         [ 0.44394688, -0.38992602],\n",
       "         [ 2.0089959 , -1.26166535],\n",
       "         [ 3.31595588, -2.04602895],\n",
       "         [ 0.80113229,  1.51109105],\n",
       "         [ 1.2933655 ,  0.95998478],\n",
       "         [ 0.99198476,  1.0465677 ],\n",
       "         [-0.34278859, -0.08219351],\n",
       "         [ 1.82008444,  0.69097721],\n",
       "         [ 1.2933655 ,  0.95998478],\n",
       "         [ 0.59841259, -0.04398496],\n",
       "         [ 0.97081968, -0.75068294],\n",
       "         [ 2.07135111,  1.45797007],\n",
       "         [ 1.2933655 ,  0.95998478],\n",
       "         [ 1.10752442,  0.5284127 ],\n",
       "         [ 0.9271031 ,  0.66729944],\n",
       "         [ 1.33764201,  0.50085218],\n",
       "         [ 0.35349941,  1.7568708 ],\n",
       "         [ 2.07135111,  1.45797007]]),\n",
       "  array([0, 0, 1, 1, 0, 0, 0, 0, 0, 0, 1, 1, 1, 0, 1, 1, 1, 0, 0, 0, 0, 1,\n",
       "         0, 1, 1, 1, 1, 0, 0, 1, 1, 1, 1, 0, 1, 1, 1, 1, 1, 1, 0, 0, 1, 1,\n",
       "         0, 0, 1, 0, 1, 0, 0, 1, 0, 0, 1, 1, 0, 1, 1, 0, 1, 0, 0, 1, 1, 0,\n",
       "         0, 0, 1, 1, 1, 0, 0, 1, 1, 0, 1, 0, 0, 1, 1, 1, 1, 1, 1, 0, 0, 0,\n",
       "         1, 0, 0, 0, 1, 0, 0, 0, 0, 0, 0, 0]))]"
      ]
     },
     "execution_count": 58,
     "metadata": {},
     "output_type": "execute_result"
    }
   ],
   "source": [
    "get_bootstrap(classification_data, classification_labels, 2)\n"
   ]
  },
  {
   "cell_type": "code",
   "execution_count": 59,
   "metadata": {},
   "outputs": [],
   "source": [
    "def get_subsample(len_sample):\n",
    "    # будем сохранять не сами признаки, а их индексы\n",
    "    sample_indexes = list(range(len_sample))\n",
    "\n",
    "    len_subsample = int(np.sqrt(len_sample))\n",
    "    \n",
    "    subsample = np.random.choice(sample_indexes, size=len_subsample, replace=False)\n",
    "\n",
    "    return subsample"
   ]
  },
  {
   "cell_type": "code",
   "execution_count": 60,
   "metadata": {},
   "outputs": [],
   "source": [
    "# Реализуем класс узла\n",
    "\n",
    "class Node:\n",
    "    \n",
    "    def __init__(self, index, t, true_branch, false_branch):\n",
    "        self.index = index  # индекс признака, по которому ведется сравнение с порогом в этом узле\n",
    "        self.t = t  # значение порога\n",
    "        self.true_branch = true_branch  # поддерево, удовлетворяющее условию в узле\n",
    "        self.false_branch = false_branch  # поддерево, не удовлетворяющее условию в узле"
   ]
  },
  {
   "cell_type": "code",
   "execution_count": 61,
   "metadata": {},
   "outputs": [],
   "source": [
    "# И класс терминального узла (листа)\n",
    "\n",
    "class Leaf:\n",
    "    \n",
    "    def __init__(self, data, labels):\n",
    "        self.data = data\n",
    "        self.labels = labels\n",
    "        self.prediction = self.predict()\n",
    "        \n",
    "    def predict(self):\n",
    "        # подсчет количества объектов разных классов\n",
    "        classes = {}  # сформируем словарь \"класс: количество объектов\"\n",
    "        for label in self.labels:\n",
    "            if label not in classes:\n",
    "                classes[label] = 0\n",
    "            classes[label] += 1\n",
    "            \n",
    "        # найдем класс, количество объектов которого будет максимальным в этом листе и вернем его    \n",
    "        prediction = max(classes, key=classes.get)\n",
    "        return prediction        "
   ]
  },
  {
   "cell_type": "code",
   "execution_count": 62,
   "metadata": {},
   "outputs": [],
   "source": [
    "# Расчет критерия Джини\n",
    "\n",
    "def gini(labels):\n",
    "    #  подсчет количества объектов разных классов\n",
    "    classes = {}\n",
    "    for label in labels:\n",
    "        if label not in classes:\n",
    "            classes[label] = 0\n",
    "        classes[label] += 1\n",
    "    \n",
    "    #  расчет критерия\n",
    "    impurity = 1\n",
    "    for label in classes:\n",
    "        p = classes[label] / len(labels)\n",
    "        impurity -= p ** 2\n",
    "        \n",
    "    return impurity"
   ]
  },
  {
   "cell_type": "code",
   "execution_count": 63,
   "metadata": {},
   "outputs": [],
   "source": [
    "# Расчет прироста\n",
    "\n",
    "def gain(left_labels, right_labels, root_gini):\n",
    "\n",
    "    # доля выборки, ушедшая в левое поддерево\n",
    "    p = float(left_labels.shape[0]) / (left_labels.shape[0] + right_labels.shape[0])\n",
    "    \n",
    "    return root_gini - p * gini(left_labels) - (1 - p) * gini(right_labels)"
   ]
  },
  {
   "cell_type": "code",
   "execution_count": 64,
   "metadata": {},
   "outputs": [],
   "source": [
    "# Разбиение датасета в узле\n",
    "\n",
    "def split(data, labels, column_index, t):\n",
    "    \n",
    "    left = np.where(data[:, column_index] <= t)\n",
    "    right = np.where(data[:, column_index] > t)\n",
    "        \n",
    "    true_data = data[left]\n",
    "    false_data = data[right]\n",
    "    \n",
    "    true_labels = labels[left]\n",
    "    false_labels = labels[right]\n",
    "        \n",
    "    return true_data, false_data, true_labels, false_labels"
   ]
  },
  {
   "cell_type": "code",
   "execution_count": 65,
   "metadata": {},
   "outputs": [],
   "source": [
    "# Нахождение наилучшего разбиения\n",
    "\n",
    "def find_best_split(data, labels):\n",
    "    \n",
    "    #  обозначим минимальное количество объектов в узле\n",
    "    min_leaf_samples = 5\n",
    "\n",
    "    root_gini = gini(labels)\n",
    "\n",
    "    best_gain = 0\n",
    "    best_t = None\n",
    "    best_index = None\n",
    "    \n",
    "    n_features = data.shape[1]\n",
    "    \n",
    "    feature_subsample_indices = get_subsample(n_features) # выбираем случайные признаки\n",
    "    \n",
    "    for index in feature_subsample_indices:\n",
    "        # будем проверять только уникальные значения признака, исключая повторения\n",
    "        t_values = np.unique(data[:, index])\n",
    "        \n",
    "        for t in t_values:\n",
    "            true_data, false_data, true_labels, false_labels = split(data, labels, index, t)\n",
    "            #  пропускаем разбиения, в которых в узле остается менее 5 объектов\n",
    "            if len(true_data) < min_leaf_samples or len(false_data) < min_leaf_samples:\n",
    "                continue\n",
    "            \n",
    "            current_gain = gain(true_labels, false_labels, root_gini)\n",
    "            \n",
    "            #  выбираем порог, на котором получается максимальный прирост качества\n",
    "            if current_gain > best_gain:\n",
    "                best_gain, best_t, best_index = current_gain, t, index\n",
    "\n",
    "    return best_gain, best_t, best_index"
   ]
  },
  {
   "cell_type": "code",
   "execution_count": 66,
   "metadata": {},
   "outputs": [],
   "source": [
    "# Построение дерева с помощью рекурсивной функции\n",
    "\n",
    "def build_tree(data, labels):\n",
    "\n",
    "    gain, t, index = find_best_split(data, labels)\n",
    "\n",
    "    #  Базовый случай - прекращаем рекурсию, когда нет прироста в качества\n",
    "    if gain == 0:\n",
    "        return Leaf(data, labels)\n",
    "\n",
    "    true_data, false_data, true_labels, false_labels = split(data, labels, index, t)\n",
    "\n",
    "    # Рекурсивно строим два поддерева\n",
    "    true_branch = build_tree(true_data, true_labels)\n",
    "    false_branch = build_tree(false_data, false_labels)\n",
    "\n",
    "    # Возвращаем класс узла со всеми поддеревьями, то есть целого дерева\n",
    "    return Node(index, t, true_branch, false_branch)"
   ]
  },
  {
   "cell_type": "code",
   "execution_count": 67,
   "metadata": {},
   "outputs": [],
   "source": [
    "#Случайный лес\n",
    "def random_forest(data, labels, n_trees):\n",
    "    forest = []\n",
    "    bootstrap = get_bootstrap(data, labels, n_trees)\n",
    "    \n",
    "    for b_data, b_labels in bootstrap:\n",
    "        forest.append(build_tree(b_data, b_labels))\n",
    "        \n",
    "    return forest"
   ]
  },
  {
   "cell_type": "code",
   "execution_count": 68,
   "metadata": {},
   "outputs": [],
   "source": [
    "# Функция классификации отдельного объекта\n",
    "\n",
    "def classify_object(obj, node):\n",
    "\n",
    "    #  Останавливаем рекурсию, если достигли листа\n",
    "    if isinstance(node, Leaf):\n",
    "        answer = node.prediction\n",
    "        return answer\n",
    "\n",
    "    if obj[node.index] <= node.t:\n",
    "        return classify_object(obj, node.true_branch)\n",
    "    else:\n",
    "        return classify_object(obj, node.false_branch)"
   ]
  },
  {
   "cell_type": "code",
   "execution_count": 69,
   "metadata": {},
   "outputs": [],
   "source": [
    "# функция формирования предсказания по выборке на одном дереве\n",
    "\n",
    "def predict(data, tree):\n",
    "    \n",
    "    classes = []\n",
    "    for obj in data:\n",
    "        prediction = classify_object(obj, tree)\n",
    "        classes.append(prediction)\n",
    "    return classes"
   ]
  },
  {
   "cell_type": "code",
   "execution_count": 70,
   "metadata": {},
   "outputs": [],
   "source": [
    "# предсказание голосованием деревьев\n",
    "\n",
    "def tree_vote(forest, data):\n",
    "\n",
    "    # добавим предсказания всех деревьев в список\n",
    "    predictions = []\n",
    "    for tree in forest:\n",
    "        predictions.append(predict(data, tree))\n",
    "\n",
    "    # сформируем список с предсказаниями для каждого объекта\n",
    "    predictions_per_object = list(zip(*predictions))\n",
    "\n",
    "    # выберем в качестве итогового предсказания для каждого объекта то,\n",
    "    # за которое проголосовало большинство деревьев\n",
    "    voted_predictions = []\n",
    "    for obj in predictions_per_object:\n",
    "        voted_predictions.append(max(set(obj), key=obj.count))\n",
    "        \n",
    "    return voted_predictions"
   ]
  },
  {
   "cell_type": "code",
   "execution_count": 71,
   "metadata": {},
   "outputs": [],
   "source": [
    "# Введем функцию подсчета точности как доли правильных ответов\n",
    "\n",
    "def accuracy_metric(actual, predicted):\n",
    "    correct = 0\n",
    "    for i in range(len(actual)):\n",
    "        if actual[i] == predicted[i]:\n",
    "            correct += 1\n",
    "    return correct / float(len(actual)) * 100.0"
   ]
  },
  {
   "cell_type": "code",
   "execution_count": 72,
   "metadata": {},
   "outputs": [],
   "source": [
    "# Визуализируем дерево на графике\n",
    "\n",
    "def get_meshgrid(data, step=.05, border=1.2):\n",
    "    x_min, x_max = data[:, 0].min() - border, data[:, 0].max() + border\n",
    "    y_min, y_max = data[:, 1].min() - border, data[:, 1].max() + border\n",
    "    return np.meshgrid(np.arange(x_min, x_max, step), np.arange(y_min, y_max, step))\n",
    "\n",
    "\n",
    "def visualize(train_data, train_labels, test_data, test_labels, my_forest):\n",
    "    plt.figure(figsize = (16, 7))\n",
    "\n",
    "    # график обучающей выборки\n",
    "    plt.subplot(1,2,1)\n",
    "    xx, yy = get_meshgrid(train_data)\n",
    "    mesh_predictions = np.array(tree_vote(my_forest, np.c_[xx.ravel(), yy.ravel()])).reshape(xx.shape)\n",
    "    plt.pcolormesh(xx, yy, mesh_predictions, cmap = light_colors)\n",
    "    plt.scatter(train_data[:, 0], train_data[:, 1], c = train_labels, cmap = colors)  \n",
    "    train_accuracy = accuracy_metric(train_labels, tree_vote(my_forest, train_data))\n",
    "    plt.title(f'Train accuracy={train_accuracy:.2f}')\n",
    "\n",
    "    # график тестовой выборки\n",
    "    plt.subplot(1,2,2)\n",
    "    plt.pcolormesh(xx, yy, mesh_predictions, cmap = light_colors)\n",
    "    plt.scatter(test_data[:, 0], test_data[:, 1], c = test_labels, cmap = colors)\n",
    "    test_accuracy = accuracy_metric(test_labels, tree_vote(my_forest, test_data))\n",
    "    plt.title(f'Test accuracy={test_accuracy:.2f}')"
   ]
  },
  {
   "cell_type": "markdown",
   "metadata": {},
   "source": [
    "### Построим лес из одного дерева"
   ]
  },
  {
   "cell_type": "code",
   "execution_count": 73,
   "metadata": {},
   "outputs": [
    {
     "name": "stdout",
     "output_type": "stream",
     "text": [
      "Wall time: 7.98 ms\n"
     ]
    }
   ],
   "source": [
    "%%time\n",
    "n_trees = 1\n",
    "forest_1 = random_forest(train_data, train_labels, n_trees)"
   ]
  },
  {
   "cell_type": "code",
   "execution_count": 74,
   "metadata": {},
   "outputs": [],
   "source": [
    "# Ответы для обучающей выборки: \n",
    "train_answers = tree_vote(forest_1, train_data)"
   ]
  },
  {
   "cell_type": "code",
   "execution_count": 75,
   "metadata": {},
   "outputs": [],
   "source": [
    "# Ответы для тестовой выборки:\n",
    "test_answers = tree_vote(forest_1, test_data)"
   ]
  },
  {
   "cell_type": "code",
   "execution_count": 76,
   "metadata": {},
   "outputs": [
    {
     "name": "stdout",
     "output_type": "stream",
     "text": [
      "Точность случайного леса из 1 деревьев на обучающей выборке: 94.286\n",
      "Точность случайного леса из 1 деревьев на тестовой выборке: 100.000\n"
     ]
    }
   ],
   "source": [
    "# Точность на обучающей выборке\n",
    "train_accuracy = accuracy_metric(train_labels, train_answers)\n",
    "print(f'Точность случайного леса из {n_trees} деревьев на обучающей выборке: {train_accuracy:.3f}')\n",
    "\n",
    "# Точность на тестовой выборке\n",
    "test_accuracy = accuracy_metric(test_labels, test_answers)\n",
    "print(f'Точность случайного леса из {n_trees} деревьев на тестовой выборке: {test_accuracy:.3f}')"
   ]
  },
  {
   "cell_type": "code",
   "execution_count": 77,
   "metadata": {},
   "outputs": [
    {
     "data": {
      "image/png": "[encoded data removed]",
      "text/plain": [
       "<Figure size 1152x504 with 2 Axes>"
      ]
     },
     "metadata": {
      "needs_background": "light"
     },
     "output_type": "display_data"
    }
   ],
   "source": [
    "visualize(train_data, train_labels, test_data, test_labels, forest_1)\n"
   ]
  },
  {
   "cell_type": "markdown",
   "metadata": {},
   "source": [
    "### Построим лес из трех деревьев"
   ]
  },
  {
   "cell_type": "code",
   "execution_count": 78,
   "metadata": {},
   "outputs": [
    {
     "name": "stdout",
     "output_type": "stream",
     "text": [
      "Wall time: 26.9 ms\n"
     ]
    }
   ],
   "source": [
    "%%time\n",
    "n_trees = 3\n",
    "forest_3 = random_forest(train_data, train_labels, n_trees)"
   ]
  },
  {
   "cell_type": "code",
   "execution_count": 79,
   "metadata": {},
   "outputs": [],
   "source": [
    "# Ответы для обучающей выборки: \n",
    "train_answers = tree_vote(forest_3, train_data)"
   ]
  },
  {
   "cell_type": "code",
   "execution_count": 80,
   "metadata": {},
   "outputs": [],
   "source": [
    "# Ответы для тестовой выборки:\n",
    "test_answers = tree_vote(forest_3, test_data)"
   ]
  },
  {
   "cell_type": "code",
   "execution_count": 81,
   "metadata": {},
   "outputs": [
    {
     "name": "stdout",
     "output_type": "stream",
     "text": [
      "Точность случайного леса из 3 деревьев на обучающей выборке: 95.714\n",
      "Точность случайного леса из 3 деревьев на тестовой выборке: 93.333\n"
     ]
    }
   ],
   "source": [
    "# Точность на обучающей выборке\n",
    "train_accuracy = accuracy_metric(train_labels, train_answers)\n",
    "print(f'Точность случайного леса из {n_trees} деревьев на обучающей выборке: {train_accuracy:.3f}')\n",
    "\n",
    "# Точность на тестовой выборке\n",
    "test_accuracy = accuracy_metric(test_labels, test_answers)\n",
    "print(f'Точность случайного леса из {n_trees} деревьев на тестовой выборке: {test_accuracy:.3f}')"
   ]
  },
  {
   "cell_type": "code",
   "execution_count": 82,
   "metadata": {},
   "outputs": [
    {
     "data": {
      "image/png": "[encoded data removed]",
      "text/plain": [
       "<Figure size 1152x504 with 2 Axes>"
      ]
     },
     "metadata": {
      "needs_background": "light"
     },
     "output_type": "display_data"
    }
   ],
   "source": [
    "visualize(train_data, train_labels, test_data, test_labels, forest_3)"
   ]
  },
  {
   "cell_type": "markdown",
   "metadata": {},
   "source": [
    "### Построим лес из 10 деревьев"
   ]
  },
  {
   "cell_type": "code",
   "execution_count": 83,
   "metadata": {},
   "outputs": [
    {
     "name": "stdout",
     "output_type": "stream",
     "text": [
      "Wall time: 60.8 ms\n"
     ]
    }
   ],
   "source": [
    "%%time\n",
    "n_trees = 10\n",
    "forest_10 = random_forest(train_data, train_labels, n_trees)"
   ]
  },
  {
   "cell_type": "code",
   "execution_count": 84,
   "metadata": {},
   "outputs": [],
   "source": [
    "# Ответы для обучающей выборки: \n",
    "train_answers = tree_vote(forest_10, train_data)"
   ]
  },
  {
   "cell_type": "code",
   "execution_count": 85,
   "metadata": {},
   "outputs": [],
   "source": [
    "# Ответы для тестовой выборки:\n",
    "test_answers = tree_vote(forest_10, test_data)"
   ]
  },
  {
   "cell_type": "code",
   "execution_count": 86,
   "metadata": {},
   "outputs": [
    {
     "name": "stdout",
     "output_type": "stream",
     "text": [
      "Точность случайного леса из 10 деревьев на обучающей выборке: 94.286\n",
      "Точность случайного леса из 10 деревьев на тестовой выборке: 86.667\n"
     ]
    }
   ],
   "source": [
    "# Точность на обучающей выборке\n",
    "train_accuracy = accuracy_metric(train_labels, train_answers)\n",
    "print(f'Точность случайного леса из {n_trees} деревьев на обучающей выборке: {train_accuracy:.3f}')\n",
    "\n",
    "# Точность на тестовой выборке\n",
    "test_accuracy = accuracy_metric(test_labels, test_answers)\n",
    "print(f'Точность случайного леса из {n_trees} деревьев на тестовой выборке: {test_accuracy:.3f}')"
   ]
  },
  {
   "cell_type": "code",
   "execution_count": 87,
   "metadata": {},
   "outputs": [
    {
     "data": {
      "image/png": "[encoded data removed]",
      "text/plain": [
       "<Figure size 1152x504 with 2 Axes>"
      ]
     },
     "metadata": {
      "needs_background": "light"
     },
     "output_type": "display_data"
    }
   ],
   "source": [
    "visualize(train_data, train_labels, test_data, test_labels, forest_10)"
   ]
  },
  {
   "cell_type": "markdown",
   "metadata": {},
   "source": [
    "### Построим лес из 50 деревьев"
   ]
  },
  {
   "cell_type": "code",
   "execution_count": 88,
   "metadata": {},
   "outputs": [
    {
     "name": "stdout",
     "output_type": "stream",
     "text": [
      "Wall time: 241 ms\n"
     ]
    }
   ],
   "source": [
    "%%time\n",
    "n_trees = 50\n",
    "forest_50 = random_forest(train_data, train_labels, n_trees)"
   ]
  },
  {
   "cell_type": "code",
   "execution_count": 89,
   "metadata": {},
   "outputs": [],
   "source": [
    "# Ответы для обучающей выборки: \n",
    "train_answers = tree_vote(forest_50, train_data)"
   ]
  },
  {
   "cell_type": "code",
   "execution_count": 90,
   "metadata": {},
   "outputs": [],
   "source": [
    "# Ответы для тестовой выборки:\n",
    "test_answers = tree_vote(forest_50, test_data)"
   ]
  },
  {
   "cell_type": "code",
   "execution_count": 91,
   "metadata": {},
   "outputs": [
    {
     "name": "stdout",
     "output_type": "stream",
     "text": [
      "Точность случайного леса из 50 деревьев на обучающей выборке: 95.714\n",
      "Точность случайного леса из 50 деревьев на тестовой выборке: 100.000\n"
     ]
    }
   ],
   "source": [
    "# Точность на обучающей выборке\n",
    "train_accuracy = accuracy_metric(train_labels, train_answers)\n",
    "print(f'Точность случайного леса из {n_trees} деревьев на обучающей выборке: {train_accuracy:.3f}')\n",
    "\n",
    "# Точность на тестовой выборке\n",
    "test_accuracy = accuracy_metric(test_labels, test_answers)\n",
    "print(f'Точность случайного леса из {n_trees} деревьев на тестовой выборке: {test_accuracy:.3f}')"
   ]
  },
  {
   "cell_type": "code",
   "execution_count": 92,
   "metadata": {},
   "outputs": [
    {
     "data": {
      "image/png": "[encoded data removed]",
      "text/plain": [
       "<Figure size 1152x504 with 2 Axes>"
      ]
     },
     "metadata": {
      "needs_background": "light"
     },
     "output_type": "display_data"
    }
   ],
   "source": [
    "visualize(train_data, train_labels, test_data, test_labels, forest_50)"
   ]
  },
  {
   "cell_type": "markdown",
   "metadata": {},
   "source": [
    "Чем больше деревьев, тем сложнее гиперплоскость. Переобучения или недообучения не происходит при увеличении до 10 деревьев. При этом по точности на тестовой выборке можно сказать, что при увеличении количества деревьев до 50 наш лес переобучается, так как точность на тесте равна 100%."
   ]
  },
  {
   "cell_type": "markdown",
   "metadata": {},
   "source": [
    "### Переписать функцию gini из урока про решающие деревья так, чтобы в качестве критерия использовалась энтропия Шэннона. Переименовать функцию в entropy."
   ]
  },
  {
   "cell_type": "markdown",
   "metadata": {},
   "source": [
    "_Энтропийный критерий_ или _энтропия Шеннона_ :\n",
    "\n",
    "$$H(X) = - \\sum^{K}_{k=1}p_{k}\\text{log}_{2}p_{k}.$$"
   ]
  },
  {
   "cell_type": "code",
   "execution_count": 93,
   "metadata": {},
   "outputs": [],
   "source": [
    "# Расчет энтропии Шеннона\n",
    "\n",
    "def entropy(labels):\n",
    "    #  подсчет количества объектов разных классов\n",
    "    classes = {}\n",
    "    for label in labels:\n",
    "        if label not in classes:\n",
    "            classes[label] = 0\n",
    "        classes[label] += 1\n",
    "    \n",
    "    #  расчет критерия\n",
    "    impurity = 0\n",
    "    for label in classes:\n",
    "        p = classes[label] / len(labels)\n",
    "        impurity += p * np.log2(p)\n",
    "        \n",
    "    return -impurity"
   ]
  },
  {
   "cell_type": "code",
   "execution_count": null,
   "metadata": {},
   "outputs": [],
   "source": []
  }
 ],
 "metadata": {
  "kernelspec": {
   "display_name": "Python 3",
   "language": "python",
   "name": "python3"
  },
  "language_info": {
   "codemirror_mode": {
    "name": "ipython",
    "version": 3
   },
   "file_extension": ".py",
   "mimetype": "text/x-python",
   "name": "python",
   "nbconvert_exporter": "python",
   "pygments_lexer": "ipython3",
   "version": "3.8.3"
  }
 },
 "nbformat": 4,
 "nbformat_minor": 4
}
